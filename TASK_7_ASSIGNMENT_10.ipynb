{
  "nbformat": 4,
  "nbformat_minor": 0,
  "metadata": {
    "colab": {
      "name": "TASK_7 ASSIGNMENT_10.ipynb",
      "provenance": []
    },
    "kernelspec": {
      "name": "python3",
      "display_name": "Python 3"
    },
    "language_info": {
      "name": "python"
    }
  },
  "cells": [
    {
      "cell_type": "markdown",
      "source": [
        "##Assignment 10\n",
        "\n",
        "You are provided with a dataset from USA Forensic Science Service\n",
        "which has description of 6 types of glass; defined in terms of their\n",
        "oxide content (i.e. Na, Fe, K, etc). Your task is to use K-Nearest\n",
        "Neighbor (KNN) classifier to classify the glasses.\n",
        "The original dataset is available at\n",
        "(https://archive.ics.uci.edu/ml/datasets/glass+identification). For\n",
        "detailed description on the attributes of the dataset,\n",
        "please refer to the original link of the dataset in the UCI ML\n",
        "repository.\n",
        "But the shared drive folder have the dataset for your convenience\n",
        "\n",
        "perform exploratory data analysis on the dataset using Python Pandas,\n",
        "including dropping irrelevant fields for predicted values, and\n",
        "standardization of each attribute.\n",
        "Following data cleaning, two Scikit-Learn KNN models should be created\n",
        "for two different distance metrics: Square Euclidean and Manhattan\n",
        "distance. The performance of the two models using different distance\n",
        "metrics should be compared in terms of accuracy to the test data and\n",
        "Scikit-Learn Classification Report."
      ],
      "metadata": {
        "id": "FF0Kb-k6ugAl"
      }
    },
    {
      "cell_type": "code",
      "execution_count": 1,
      "metadata": {
        "id": "rPBDbzYljhMc"
      },
      "outputs": [],
      "source": [
        "import pandas as pd\n",
        "import numpy as np"
      ]
    },
    {
      "cell_type": "code",
      "source": [
        "train_df = pd.read_csv('/content/trainKNN.txt',sep=\",\",header=None,\n",
        "                       names=[\"oxide1\",\"oxide2\",\"oxide3\",\"oxide4\",\"oxide5\",\"oxide6\",\"oxide7\",\"oxide8\",\"oxide9\",\"oxide10\",\"oxide11\"])"
      ],
      "metadata": {
        "id": "Nl0otxh7k0xh"
      },
      "execution_count": 4,
      "outputs": []
    },
    {
      "cell_type": "code",
      "source": [
        "train_df.head()"
      ],
      "metadata": {
        "colab": {
          "base_uri": "https://localhost:8080/",
          "height": 206
        },
        "id": "1W-zMUeVk0Xv",
        "outputId": "f80a44cc-bc24-4bbb-f3f9-09cc689c2394"
      },
      "execution_count": 5,
      "outputs": [
        {
          "output_type": "execute_result",
          "data": {
            "text/plain": [
              "   oxide1   oxide2  oxide3  oxide4  oxide5  oxide6  oxide7  oxide8  oxide9  \\\n",
              "0       1  1.52101   13.64    4.49    1.10   71.78    0.06    8.75     0.0   \n",
              "1       2  1.51761   13.89    3.60    1.36   72.73    0.48    7.83     0.0   \n",
              "2       3  1.51618   13.53    3.55    1.54   72.99    0.39    7.78     0.0   \n",
              "3       4  1.51766   13.21    3.69    1.29   72.61    0.57    8.22     0.0   \n",
              "4       5  1.51742   13.27    3.62    1.24   73.08    0.55    8.07     0.0   \n",
              "\n",
              "   oxide10  oxide11  \n",
              "0      0.0        1  \n",
              "1      0.0        1  \n",
              "2      0.0        1  \n",
              "3      0.0        1  \n",
              "4      0.0        1  "
            ],
            "text/html": [
              "\n",
              "  <div id=\"df-259f4b50-dd52-4013-8c8a-f741dac38804\">\n",
              "    <div class=\"colab-df-container\">\n",
              "      <div>\n",
              "<style scoped>\n",
              "    .dataframe tbody tr th:only-of-type {\n",
              "        vertical-align: middle;\n",
              "    }\n",
              "\n",
              "    .dataframe tbody tr th {\n",
              "        vertical-align: top;\n",
              "    }\n",
              "\n",
              "    .dataframe thead th {\n",
              "        text-align: right;\n",
              "    }\n",
              "</style>\n",
              "<table border=\"1\" class=\"dataframe\">\n",
              "  <thead>\n",
              "    <tr style=\"text-align: right;\">\n",
              "      <th></th>\n",
              "      <th>oxide1</th>\n",
              "      <th>oxide2</th>\n",
              "      <th>oxide3</th>\n",
              "      <th>oxide4</th>\n",
              "      <th>oxide5</th>\n",
              "      <th>oxide6</th>\n",
              "      <th>oxide7</th>\n",
              "      <th>oxide8</th>\n",
              "      <th>oxide9</th>\n",
              "      <th>oxide10</th>\n",
              "      <th>oxide11</th>\n",
              "    </tr>\n",
              "  </thead>\n",
              "  <tbody>\n",
              "    <tr>\n",
              "      <th>0</th>\n",
              "      <td>1</td>\n",
              "      <td>1.52101</td>\n",
              "      <td>13.64</td>\n",
              "      <td>4.49</td>\n",
              "      <td>1.10</td>\n",
              "      <td>71.78</td>\n",
              "      <td>0.06</td>\n",
              "      <td>8.75</td>\n",
              "      <td>0.0</td>\n",
              "      <td>0.0</td>\n",
              "      <td>1</td>\n",
              "    </tr>\n",
              "    <tr>\n",
              "      <th>1</th>\n",
              "      <td>2</td>\n",
              "      <td>1.51761</td>\n",
              "      <td>13.89</td>\n",
              "      <td>3.60</td>\n",
              "      <td>1.36</td>\n",
              "      <td>72.73</td>\n",
              "      <td>0.48</td>\n",
              "      <td>7.83</td>\n",
              "      <td>0.0</td>\n",
              "      <td>0.0</td>\n",
              "      <td>1</td>\n",
              "    </tr>\n",
              "    <tr>\n",
              "      <th>2</th>\n",
              "      <td>3</td>\n",
              "      <td>1.51618</td>\n",
              "      <td>13.53</td>\n",
              "      <td>3.55</td>\n",
              "      <td>1.54</td>\n",
              "      <td>72.99</td>\n",
              "      <td>0.39</td>\n",
              "      <td>7.78</td>\n",
              "      <td>0.0</td>\n",
              "      <td>0.0</td>\n",
              "      <td>1</td>\n",
              "    </tr>\n",
              "    <tr>\n",
              "      <th>3</th>\n",
              "      <td>4</td>\n",
              "      <td>1.51766</td>\n",
              "      <td>13.21</td>\n",
              "      <td>3.69</td>\n",
              "      <td>1.29</td>\n",
              "      <td>72.61</td>\n",
              "      <td>0.57</td>\n",
              "      <td>8.22</td>\n",
              "      <td>0.0</td>\n",
              "      <td>0.0</td>\n",
              "      <td>1</td>\n",
              "    </tr>\n",
              "    <tr>\n",
              "      <th>4</th>\n",
              "      <td>5</td>\n",
              "      <td>1.51742</td>\n",
              "      <td>13.27</td>\n",
              "      <td>3.62</td>\n",
              "      <td>1.24</td>\n",
              "      <td>73.08</td>\n",
              "      <td>0.55</td>\n",
              "      <td>8.07</td>\n",
              "      <td>0.0</td>\n",
              "      <td>0.0</td>\n",
              "      <td>1</td>\n",
              "    </tr>\n",
              "  </tbody>\n",
              "</table>\n",
              "</div>\n",
              "      <button class=\"colab-df-convert\" onclick=\"convertToInteractive('df-259f4b50-dd52-4013-8c8a-f741dac38804')\"\n",
              "              title=\"Convert this dataframe to an interactive table.\"\n",
              "              style=\"display:none;\">\n",
              "        \n",
              "  <svg xmlns=\"http://www.w3.org/2000/svg\" height=\"24px\"viewBox=\"0 0 24 24\"\n",
              "       width=\"24px\">\n",
              "    <path d=\"M0 0h24v24H0V0z\" fill=\"none\"/>\n",
              "    <path d=\"M18.56 5.44l.94 2.06.94-2.06 2.06-.94-2.06-.94-.94-2.06-.94 2.06-2.06.94zm-11 1L8.5 8.5l.94-2.06 2.06-.94-2.06-.94L8.5 2.5l-.94 2.06-2.06.94zm10 10l.94 2.06.94-2.06 2.06-.94-2.06-.94-.94-2.06-.94 2.06-2.06.94z\"/><path d=\"M17.41 7.96l-1.37-1.37c-.4-.4-.92-.59-1.43-.59-.52 0-1.04.2-1.43.59L10.3 9.45l-7.72 7.72c-.78.78-.78 2.05 0 2.83L4 21.41c.39.39.9.59 1.41.59.51 0 1.02-.2 1.41-.59l7.78-7.78 2.81-2.81c.8-.78.8-2.07 0-2.86zM5.41 20L4 18.59l7.72-7.72 1.47 1.35L5.41 20z\"/>\n",
              "  </svg>\n",
              "      </button>\n",
              "      \n",
              "  <style>\n",
              "    .colab-df-container {\n",
              "      display:flex;\n",
              "      flex-wrap:wrap;\n",
              "      gap: 12px;\n",
              "    }\n",
              "\n",
              "    .colab-df-convert {\n",
              "      background-color: #E8F0FE;\n",
              "      border: none;\n",
              "      border-radius: 50%;\n",
              "      cursor: pointer;\n",
              "      display: none;\n",
              "      fill: #1967D2;\n",
              "      height: 32px;\n",
              "      padding: 0 0 0 0;\n",
              "      width: 32px;\n",
              "    }\n",
              "\n",
              "    .colab-df-convert:hover {\n",
              "      background-color: #E2EBFA;\n",
              "      box-shadow: 0px 1px 2px rgba(60, 64, 67, 0.3), 0px 1px 3px 1px rgba(60, 64, 67, 0.15);\n",
              "      fill: #174EA6;\n",
              "    }\n",
              "\n",
              "    [theme=dark] .colab-df-convert {\n",
              "      background-color: #3B4455;\n",
              "      fill: #D2E3FC;\n",
              "    }\n",
              "\n",
              "    [theme=dark] .colab-df-convert:hover {\n",
              "      background-color: #434B5C;\n",
              "      box-shadow: 0px 1px 3px 1px rgba(0, 0, 0, 0.15);\n",
              "      filter: drop-shadow(0px 1px 2px rgba(0, 0, 0, 0.3));\n",
              "      fill: #FFFFFF;\n",
              "    }\n",
              "  </style>\n",
              "\n",
              "      <script>\n",
              "        const buttonEl =\n",
              "          document.querySelector('#df-259f4b50-dd52-4013-8c8a-f741dac38804 button.colab-df-convert');\n",
              "        buttonEl.style.display =\n",
              "          google.colab.kernel.accessAllowed ? 'block' : 'none';\n",
              "\n",
              "        async function convertToInteractive(key) {\n",
              "          const element = document.querySelector('#df-259f4b50-dd52-4013-8c8a-f741dac38804');\n",
              "          const dataTable =\n",
              "            await google.colab.kernel.invokeFunction('convertToInteractive',\n",
              "                                                     [key], {});\n",
              "          if (!dataTable) return;\n",
              "\n",
              "          const docLinkHtml = 'Like what you see? Visit the ' +\n",
              "            '<a target=\"_blank\" href=https://colab.research.google.com/notebooks/data_table.ipynb>data table notebook</a>'\n",
              "            + ' to learn more about interactive tables.';\n",
              "          element.innerHTML = '';\n",
              "          dataTable['output_type'] = 'display_data';\n",
              "          await google.colab.output.renderOutput(dataTable, element);\n",
              "          const docLink = document.createElement('div');\n",
              "          docLink.innerHTML = docLinkHtml;\n",
              "          element.appendChild(docLink);\n",
              "        }\n",
              "      </script>\n",
              "    </div>\n",
              "  </div>\n",
              "  "
            ]
          },
          "metadata": {},
          "execution_count": 5
        }
      ]
    },
    {
      "cell_type": "code",
      "source": [
        "train_df.shape"
      ],
      "metadata": {
        "colab": {
          "base_uri": "https://localhost:8080/"
        },
        "id": "PGEnH1cjk0KD",
        "outputId": "fc74ca2e-0c9c-411c-88b8-1e4317840722"
      },
      "execution_count": 7,
      "outputs": [
        {
          "output_type": "execute_result",
          "data": {
            "text/plain": [
              "(196, 11)"
            ]
          },
          "metadata": {},
          "execution_count": 7
        }
      ]
    },
    {
      "cell_type": "code",
      "source": [
        "train_df.info()"
      ],
      "metadata": {
        "colab": {
          "base_uri": "https://localhost:8080/"
        },
        "id": "iZEMuBp_kz8y",
        "outputId": "451e2d81-050d-4b73-e553-0d37654d52fa"
      },
      "execution_count": 8,
      "outputs": [
        {
          "output_type": "stream",
          "name": "stdout",
          "text": [
            "<class 'pandas.core.frame.DataFrame'>\n",
            "RangeIndex: 196 entries, 0 to 195\n",
            "Data columns (total 11 columns):\n",
            " #   Column   Non-Null Count  Dtype  \n",
            "---  ------   --------------  -----  \n",
            " 0   oxide1   196 non-null    int64  \n",
            " 1   oxide2   196 non-null    float64\n",
            " 2   oxide3   196 non-null    float64\n",
            " 3   oxide4   196 non-null    float64\n",
            " 4   oxide5   196 non-null    float64\n",
            " 5   oxide6   196 non-null    float64\n",
            " 6   oxide7   196 non-null    float64\n",
            " 7   oxide8   196 non-null    float64\n",
            " 8   oxide9   196 non-null    float64\n",
            " 9   oxide10  196 non-null    float64\n",
            " 10  oxide11  196 non-null    int64  \n",
            "dtypes: float64(9), int64(2)\n",
            "memory usage: 17.0 KB\n"
          ]
        }
      ]
    },
    {
      "cell_type": "code",
      "source": [
        "train_df.isnull().sum()"
      ],
      "metadata": {
        "colab": {
          "base_uri": "https://localhost:8080/"
        },
        "id": "vF6aBqGAo9l_",
        "outputId": "4ef81074-a054-4e41-a40b-0fc56d5ac5fc"
      },
      "execution_count": 9,
      "outputs": [
        {
          "output_type": "execute_result",
          "data": {
            "text/plain": [
              "oxide1     0\n",
              "oxide2     0\n",
              "oxide3     0\n",
              "oxide4     0\n",
              "oxide5     0\n",
              "oxide6     0\n",
              "oxide7     0\n",
              "oxide8     0\n",
              "oxide9     0\n",
              "oxide10    0\n",
              "oxide11    0\n",
              "dtype: int64"
            ]
          },
          "metadata": {},
          "execution_count": 9
        }
      ]
    },
    {
      "cell_type": "code",
      "source": [
        "train_df.describe()"
      ],
      "metadata": {
        "colab": {
          "base_uri": "https://localhost:8080/",
          "height": 300
        },
        "id": "w6_rduRgo9bb",
        "outputId": "e64abcd9-87c1-480a-d17c-072c0a8abd4d"
      },
      "execution_count": 10,
      "outputs": [
        {
          "output_type": "execute_result",
          "data": {
            "text/plain": [
              "           oxide1      oxide2      oxide3      oxide4      oxide5      oxide6  \\\n",
              "count  196.000000  196.000000  196.000000  196.000000  196.000000  196.000000   \n",
              "mean   102.862245    1.518295   13.375204    2.758980    1.454337   72.635408   \n",
              "std     61.195663    0.003055    0.783145    1.392641    0.491688    0.763578   \n",
              "min      1.000000    1.511310   10.730000    0.000000    0.290000   69.810000   \n",
              "25%     49.750000    1.516458   12.877500    2.362500    1.190000   72.317500   \n",
              "50%    101.500000    1.517630   13.280000    3.480000    1.360000   72.810000   \n",
              "75%    153.250000    1.518985   13.792500    3.610000    1.622500   73.080000   \n",
              "max    211.000000    1.533930   15.790000    4.490000    3.500000   75.180000   \n",
              "\n",
              "           oxide7      oxide8      oxide9     oxide10     oxide11  \n",
              "count  196.000000  196.000000  196.000000  196.000000  196.000000  \n",
              "mean     0.519388    8.910714    0.164235    0.050255    2.668367  \n",
              "std      0.672703    1.421490    0.485198    0.086359    2.062416  \n",
              "min      0.000000    5.430000    0.000000    0.000000    1.000000  \n",
              "25%      0.140000    8.220000    0.000000    0.000000    1.000000  \n",
              "50%      0.560000    8.575000    0.000000    0.000000    2.000000  \n",
              "75%      0.610000    9.092500    0.000000    0.090000    3.000000  \n",
              "max      6.210000   16.190000    3.150000    0.340000    7.000000  "
            ],
            "text/html": [
              "\n",
              "  <div id=\"df-0673a197-6ce1-46dc-9062-e4115578eeb0\">\n",
              "    <div class=\"colab-df-container\">\n",
              "      <div>\n",
              "<style scoped>\n",
              "    .dataframe tbody tr th:only-of-type {\n",
              "        vertical-align: middle;\n",
              "    }\n",
              "\n",
              "    .dataframe tbody tr th {\n",
              "        vertical-align: top;\n",
              "    }\n",
              "\n",
              "    .dataframe thead th {\n",
              "        text-align: right;\n",
              "    }\n",
              "</style>\n",
              "<table border=\"1\" class=\"dataframe\">\n",
              "  <thead>\n",
              "    <tr style=\"text-align: right;\">\n",
              "      <th></th>\n",
              "      <th>oxide1</th>\n",
              "      <th>oxide2</th>\n",
              "      <th>oxide3</th>\n",
              "      <th>oxide4</th>\n",
              "      <th>oxide5</th>\n",
              "      <th>oxide6</th>\n",
              "      <th>oxide7</th>\n",
              "      <th>oxide8</th>\n",
              "      <th>oxide9</th>\n",
              "      <th>oxide10</th>\n",
              "      <th>oxide11</th>\n",
              "    </tr>\n",
              "  </thead>\n",
              "  <tbody>\n",
              "    <tr>\n",
              "      <th>count</th>\n",
              "      <td>196.000000</td>\n",
              "      <td>196.000000</td>\n",
              "      <td>196.000000</td>\n",
              "      <td>196.000000</td>\n",
              "      <td>196.000000</td>\n",
              "      <td>196.000000</td>\n",
              "      <td>196.000000</td>\n",
              "      <td>196.000000</td>\n",
              "      <td>196.000000</td>\n",
              "      <td>196.000000</td>\n",
              "      <td>196.000000</td>\n",
              "    </tr>\n",
              "    <tr>\n",
              "      <th>mean</th>\n",
              "      <td>102.862245</td>\n",
              "      <td>1.518295</td>\n",
              "      <td>13.375204</td>\n",
              "      <td>2.758980</td>\n",
              "      <td>1.454337</td>\n",
              "      <td>72.635408</td>\n",
              "      <td>0.519388</td>\n",
              "      <td>8.910714</td>\n",
              "      <td>0.164235</td>\n",
              "      <td>0.050255</td>\n",
              "      <td>2.668367</td>\n",
              "    </tr>\n",
              "    <tr>\n",
              "      <th>std</th>\n",
              "      <td>61.195663</td>\n",
              "      <td>0.003055</td>\n",
              "      <td>0.783145</td>\n",
              "      <td>1.392641</td>\n",
              "      <td>0.491688</td>\n",
              "      <td>0.763578</td>\n",
              "      <td>0.672703</td>\n",
              "      <td>1.421490</td>\n",
              "      <td>0.485198</td>\n",
              "      <td>0.086359</td>\n",
              "      <td>2.062416</td>\n",
              "    </tr>\n",
              "    <tr>\n",
              "      <th>min</th>\n",
              "      <td>1.000000</td>\n",
              "      <td>1.511310</td>\n",
              "      <td>10.730000</td>\n",
              "      <td>0.000000</td>\n",
              "      <td>0.290000</td>\n",
              "      <td>69.810000</td>\n",
              "      <td>0.000000</td>\n",
              "      <td>5.430000</td>\n",
              "      <td>0.000000</td>\n",
              "      <td>0.000000</td>\n",
              "      <td>1.000000</td>\n",
              "    </tr>\n",
              "    <tr>\n",
              "      <th>25%</th>\n",
              "      <td>49.750000</td>\n",
              "      <td>1.516458</td>\n",
              "      <td>12.877500</td>\n",
              "      <td>2.362500</td>\n",
              "      <td>1.190000</td>\n",
              "      <td>72.317500</td>\n",
              "      <td>0.140000</td>\n",
              "      <td>8.220000</td>\n",
              "      <td>0.000000</td>\n",
              "      <td>0.000000</td>\n",
              "      <td>1.000000</td>\n",
              "    </tr>\n",
              "    <tr>\n",
              "      <th>50%</th>\n",
              "      <td>101.500000</td>\n",
              "      <td>1.517630</td>\n",
              "      <td>13.280000</td>\n",
              "      <td>3.480000</td>\n",
              "      <td>1.360000</td>\n",
              "      <td>72.810000</td>\n",
              "      <td>0.560000</td>\n",
              "      <td>8.575000</td>\n",
              "      <td>0.000000</td>\n",
              "      <td>0.000000</td>\n",
              "      <td>2.000000</td>\n",
              "    </tr>\n",
              "    <tr>\n",
              "      <th>75%</th>\n",
              "      <td>153.250000</td>\n",
              "      <td>1.518985</td>\n",
              "      <td>13.792500</td>\n",
              "      <td>3.610000</td>\n",
              "      <td>1.622500</td>\n",
              "      <td>73.080000</td>\n",
              "      <td>0.610000</td>\n",
              "      <td>9.092500</td>\n",
              "      <td>0.000000</td>\n",
              "      <td>0.090000</td>\n",
              "      <td>3.000000</td>\n",
              "    </tr>\n",
              "    <tr>\n",
              "      <th>max</th>\n",
              "      <td>211.000000</td>\n",
              "      <td>1.533930</td>\n",
              "      <td>15.790000</td>\n",
              "      <td>4.490000</td>\n",
              "      <td>3.500000</td>\n",
              "      <td>75.180000</td>\n",
              "      <td>6.210000</td>\n",
              "      <td>16.190000</td>\n",
              "      <td>3.150000</td>\n",
              "      <td>0.340000</td>\n",
              "      <td>7.000000</td>\n",
              "    </tr>\n",
              "  </tbody>\n",
              "</table>\n",
              "</div>\n",
              "      <button class=\"colab-df-convert\" onclick=\"convertToInteractive('df-0673a197-6ce1-46dc-9062-e4115578eeb0')\"\n",
              "              title=\"Convert this dataframe to an interactive table.\"\n",
              "              style=\"display:none;\">\n",
              "        \n",
              "  <svg xmlns=\"http://www.w3.org/2000/svg\" height=\"24px\"viewBox=\"0 0 24 24\"\n",
              "       width=\"24px\">\n",
              "    <path d=\"M0 0h24v24H0V0z\" fill=\"none\"/>\n",
              "    <path d=\"M18.56 5.44l.94 2.06.94-2.06 2.06-.94-2.06-.94-.94-2.06-.94 2.06-2.06.94zm-11 1L8.5 8.5l.94-2.06 2.06-.94-2.06-.94L8.5 2.5l-.94 2.06-2.06.94zm10 10l.94 2.06.94-2.06 2.06-.94-2.06-.94-.94-2.06-.94 2.06-2.06.94z\"/><path d=\"M17.41 7.96l-1.37-1.37c-.4-.4-.92-.59-1.43-.59-.52 0-1.04.2-1.43.59L10.3 9.45l-7.72 7.72c-.78.78-.78 2.05 0 2.83L4 21.41c.39.39.9.59 1.41.59.51 0 1.02-.2 1.41-.59l7.78-7.78 2.81-2.81c.8-.78.8-2.07 0-2.86zM5.41 20L4 18.59l7.72-7.72 1.47 1.35L5.41 20z\"/>\n",
              "  </svg>\n",
              "      </button>\n",
              "      \n",
              "  <style>\n",
              "    .colab-df-container {\n",
              "      display:flex;\n",
              "      flex-wrap:wrap;\n",
              "      gap: 12px;\n",
              "    }\n",
              "\n",
              "    .colab-df-convert {\n",
              "      background-color: #E8F0FE;\n",
              "      border: none;\n",
              "      border-radius: 50%;\n",
              "      cursor: pointer;\n",
              "      display: none;\n",
              "      fill: #1967D2;\n",
              "      height: 32px;\n",
              "      padding: 0 0 0 0;\n",
              "      width: 32px;\n",
              "    }\n",
              "\n",
              "    .colab-df-convert:hover {\n",
              "      background-color: #E2EBFA;\n",
              "      box-shadow: 0px 1px 2px rgba(60, 64, 67, 0.3), 0px 1px 3px 1px rgba(60, 64, 67, 0.15);\n",
              "      fill: #174EA6;\n",
              "    }\n",
              "\n",
              "    [theme=dark] .colab-df-convert {\n",
              "      background-color: #3B4455;\n",
              "      fill: #D2E3FC;\n",
              "    }\n",
              "\n",
              "    [theme=dark] .colab-df-convert:hover {\n",
              "      background-color: #434B5C;\n",
              "      box-shadow: 0px 1px 3px 1px rgba(0, 0, 0, 0.15);\n",
              "      filter: drop-shadow(0px 1px 2px rgba(0, 0, 0, 0.3));\n",
              "      fill: #FFFFFF;\n",
              "    }\n",
              "  </style>\n",
              "\n",
              "      <script>\n",
              "        const buttonEl =\n",
              "          document.querySelector('#df-0673a197-6ce1-46dc-9062-e4115578eeb0 button.colab-df-convert');\n",
              "        buttonEl.style.display =\n",
              "          google.colab.kernel.accessAllowed ? 'block' : 'none';\n",
              "\n",
              "        async function convertToInteractive(key) {\n",
              "          const element = document.querySelector('#df-0673a197-6ce1-46dc-9062-e4115578eeb0');\n",
              "          const dataTable =\n",
              "            await google.colab.kernel.invokeFunction('convertToInteractive',\n",
              "                                                     [key], {});\n",
              "          if (!dataTable) return;\n",
              "\n",
              "          const docLinkHtml = 'Like what you see? Visit the ' +\n",
              "            '<a target=\"_blank\" href=https://colab.research.google.com/notebooks/data_table.ipynb>data table notebook</a>'\n",
              "            + ' to learn more about interactive tables.';\n",
              "          element.innerHTML = '';\n",
              "          dataTable['output_type'] = 'display_data';\n",
              "          await google.colab.output.renderOutput(dataTable, element);\n",
              "          const docLink = document.createElement('div');\n",
              "          docLink.innerHTML = docLinkHtml;\n",
              "          element.appendChild(docLink);\n",
              "        }\n",
              "      </script>\n",
              "    </div>\n",
              "  </div>\n",
              "  "
            ]
          },
          "metadata": {},
          "execution_count": 10
        }
      ]
    },
    {
      "cell_type": "code",
      "source": [
        "## test data \n",
        "\n",
        "test_df = pd.read_csv('/content/testKNN.txt',sep=\",\",header=None,\n",
        "                       names=[\"oxide1\",\"oxide2\",\"oxide3\",\"oxide4\",\"oxide5\",\"oxide6\",\"oxide7\",\"oxide8\",\"oxide9\",\"oxide10\",\"oxide11\"])"
      ],
      "metadata": {
        "id": "d12KCaQKo9ZT"
      },
      "execution_count": 11,
      "outputs": []
    },
    {
      "cell_type": "code",
      "source": [
        "test_df.head()"
      ],
      "metadata": {
        "colab": {
          "base_uri": "https://localhost:8080/",
          "height": 206
        },
        "id": "AvGvWuxvpZZD",
        "outputId": "82d30ab9-3141-4b0b-9bf6-38c61c221372"
      },
      "execution_count": 12,
      "outputs": [
        {
          "output_type": "execute_result",
          "data": {
            "text/plain": [
              "   oxide1   oxide2  oxide3  oxide4  oxide5  oxide6  oxide7  oxide8  oxide9  \\\n",
              "0      68  1.52152   13.05    3.65    0.87   72.32    0.19    9.85     0.0   \n",
              "1      69  1.52152   13.12    3.58    0.90   72.20    0.23    9.82     0.0   \n",
              "2      70  1.52300   13.31    3.58    0.82   71.99    0.12   10.17     0.0   \n",
              "3     144  1.51709   13.00    3.47    1.79   72.72    0.66    8.18     0.0   \n",
              "4     145  1.51660   12.99    3.18    1.23   72.97    0.58    8.81     0.0   \n",
              "\n",
              "   oxide10  oxide11  \n",
              "0     0.17        1  \n",
              "1     0.16        1  \n",
              "2     0.03        1  \n",
              "3     0.00        2  \n",
              "4     0.24        2  "
            ],
            "text/html": [
              "\n",
              "  <div id=\"df-81ef17a5-7bd4-481e-b199-fadd0689739f\">\n",
              "    <div class=\"colab-df-container\">\n",
              "      <div>\n",
              "<style scoped>\n",
              "    .dataframe tbody tr th:only-of-type {\n",
              "        vertical-align: middle;\n",
              "    }\n",
              "\n",
              "    .dataframe tbody tr th {\n",
              "        vertical-align: top;\n",
              "    }\n",
              "\n",
              "    .dataframe thead th {\n",
              "        text-align: right;\n",
              "    }\n",
              "</style>\n",
              "<table border=\"1\" class=\"dataframe\">\n",
              "  <thead>\n",
              "    <tr style=\"text-align: right;\">\n",
              "      <th></th>\n",
              "      <th>oxide1</th>\n",
              "      <th>oxide2</th>\n",
              "      <th>oxide3</th>\n",
              "      <th>oxide4</th>\n",
              "      <th>oxide5</th>\n",
              "      <th>oxide6</th>\n",
              "      <th>oxide7</th>\n",
              "      <th>oxide8</th>\n",
              "      <th>oxide9</th>\n",
              "      <th>oxide10</th>\n",
              "      <th>oxide11</th>\n",
              "    </tr>\n",
              "  </thead>\n",
              "  <tbody>\n",
              "    <tr>\n",
              "      <th>0</th>\n",
              "      <td>68</td>\n",
              "      <td>1.52152</td>\n",
              "      <td>13.05</td>\n",
              "      <td>3.65</td>\n",
              "      <td>0.87</td>\n",
              "      <td>72.32</td>\n",
              "      <td>0.19</td>\n",
              "      <td>9.85</td>\n",
              "      <td>0.0</td>\n",
              "      <td>0.17</td>\n",
              "      <td>1</td>\n",
              "    </tr>\n",
              "    <tr>\n",
              "      <th>1</th>\n",
              "      <td>69</td>\n",
              "      <td>1.52152</td>\n",
              "      <td>13.12</td>\n",
              "      <td>3.58</td>\n",
              "      <td>0.90</td>\n",
              "      <td>72.20</td>\n",
              "      <td>0.23</td>\n",
              "      <td>9.82</td>\n",
              "      <td>0.0</td>\n",
              "      <td>0.16</td>\n",
              "      <td>1</td>\n",
              "    </tr>\n",
              "    <tr>\n",
              "      <th>2</th>\n",
              "      <td>70</td>\n",
              "      <td>1.52300</td>\n",
              "      <td>13.31</td>\n",
              "      <td>3.58</td>\n",
              "      <td>0.82</td>\n",
              "      <td>71.99</td>\n",
              "      <td>0.12</td>\n",
              "      <td>10.17</td>\n",
              "      <td>0.0</td>\n",
              "      <td>0.03</td>\n",
              "      <td>1</td>\n",
              "    </tr>\n",
              "    <tr>\n",
              "      <th>3</th>\n",
              "      <td>144</td>\n",
              "      <td>1.51709</td>\n",
              "      <td>13.00</td>\n",
              "      <td>3.47</td>\n",
              "      <td>1.79</td>\n",
              "      <td>72.72</td>\n",
              "      <td>0.66</td>\n",
              "      <td>8.18</td>\n",
              "      <td>0.0</td>\n",
              "      <td>0.00</td>\n",
              "      <td>2</td>\n",
              "    </tr>\n",
              "    <tr>\n",
              "      <th>4</th>\n",
              "      <td>145</td>\n",
              "      <td>1.51660</td>\n",
              "      <td>12.99</td>\n",
              "      <td>3.18</td>\n",
              "      <td>1.23</td>\n",
              "      <td>72.97</td>\n",
              "      <td>0.58</td>\n",
              "      <td>8.81</td>\n",
              "      <td>0.0</td>\n",
              "      <td>0.24</td>\n",
              "      <td>2</td>\n",
              "    </tr>\n",
              "  </tbody>\n",
              "</table>\n",
              "</div>\n",
              "      <button class=\"colab-df-convert\" onclick=\"convertToInteractive('df-81ef17a5-7bd4-481e-b199-fadd0689739f')\"\n",
              "              title=\"Convert this dataframe to an interactive table.\"\n",
              "              style=\"display:none;\">\n",
              "        \n",
              "  <svg xmlns=\"http://www.w3.org/2000/svg\" height=\"24px\"viewBox=\"0 0 24 24\"\n",
              "       width=\"24px\">\n",
              "    <path d=\"M0 0h24v24H0V0z\" fill=\"none\"/>\n",
              "    <path d=\"M18.56 5.44l.94 2.06.94-2.06 2.06-.94-2.06-.94-.94-2.06-.94 2.06-2.06.94zm-11 1L8.5 8.5l.94-2.06 2.06-.94-2.06-.94L8.5 2.5l-.94 2.06-2.06.94zm10 10l.94 2.06.94-2.06 2.06-.94-2.06-.94-.94-2.06-.94 2.06-2.06.94z\"/><path d=\"M17.41 7.96l-1.37-1.37c-.4-.4-.92-.59-1.43-.59-.52 0-1.04.2-1.43.59L10.3 9.45l-7.72 7.72c-.78.78-.78 2.05 0 2.83L4 21.41c.39.39.9.59 1.41.59.51 0 1.02-.2 1.41-.59l7.78-7.78 2.81-2.81c.8-.78.8-2.07 0-2.86zM5.41 20L4 18.59l7.72-7.72 1.47 1.35L5.41 20z\"/>\n",
              "  </svg>\n",
              "      </button>\n",
              "      \n",
              "  <style>\n",
              "    .colab-df-container {\n",
              "      display:flex;\n",
              "      flex-wrap:wrap;\n",
              "      gap: 12px;\n",
              "    }\n",
              "\n",
              "    .colab-df-convert {\n",
              "      background-color: #E8F0FE;\n",
              "      border: none;\n",
              "      border-radius: 50%;\n",
              "      cursor: pointer;\n",
              "      display: none;\n",
              "      fill: #1967D2;\n",
              "      height: 32px;\n",
              "      padding: 0 0 0 0;\n",
              "      width: 32px;\n",
              "    }\n",
              "\n",
              "    .colab-df-convert:hover {\n",
              "      background-color: #E2EBFA;\n",
              "      box-shadow: 0px 1px 2px rgba(60, 64, 67, 0.3), 0px 1px 3px 1px rgba(60, 64, 67, 0.15);\n",
              "      fill: #174EA6;\n",
              "    }\n",
              "\n",
              "    [theme=dark] .colab-df-convert {\n",
              "      background-color: #3B4455;\n",
              "      fill: #D2E3FC;\n",
              "    }\n",
              "\n",
              "    [theme=dark] .colab-df-convert:hover {\n",
              "      background-color: #434B5C;\n",
              "      box-shadow: 0px 1px 3px 1px rgba(0, 0, 0, 0.15);\n",
              "      filter: drop-shadow(0px 1px 2px rgba(0, 0, 0, 0.3));\n",
              "      fill: #FFFFFF;\n",
              "    }\n",
              "  </style>\n",
              "\n",
              "      <script>\n",
              "        const buttonEl =\n",
              "          document.querySelector('#df-81ef17a5-7bd4-481e-b199-fadd0689739f button.colab-df-convert');\n",
              "        buttonEl.style.display =\n",
              "          google.colab.kernel.accessAllowed ? 'block' : 'none';\n",
              "\n",
              "        async function convertToInteractive(key) {\n",
              "          const element = document.querySelector('#df-81ef17a5-7bd4-481e-b199-fadd0689739f');\n",
              "          const dataTable =\n",
              "            await google.colab.kernel.invokeFunction('convertToInteractive',\n",
              "                                                     [key], {});\n",
              "          if (!dataTable) return;\n",
              "\n",
              "          const docLinkHtml = 'Like what you see? Visit the ' +\n",
              "            '<a target=\"_blank\" href=https://colab.research.google.com/notebooks/data_table.ipynb>data table notebook</a>'\n",
              "            + ' to learn more about interactive tables.';\n",
              "          element.innerHTML = '';\n",
              "          dataTable['output_type'] = 'display_data';\n",
              "          await google.colab.output.renderOutput(dataTable, element);\n",
              "          const docLink = document.createElement('div');\n",
              "          docLink.innerHTML = docLinkHtml;\n",
              "          element.appendChild(docLink);\n",
              "        }\n",
              "      </script>\n",
              "    </div>\n",
              "  </div>\n",
              "  "
            ]
          },
          "metadata": {},
          "execution_count": 12
        }
      ]
    },
    {
      "cell_type": "code",
      "source": [
        "test_df.info()"
      ],
      "metadata": {
        "colab": {
          "base_uri": "https://localhost:8080/"
        },
        "id": "eDsJoAGypZWB",
        "outputId": "175da75e-6383-4b69-d6ad-e20e4c9b8d9f"
      },
      "execution_count": 13,
      "outputs": [
        {
          "output_type": "stream",
          "name": "stdout",
          "text": [
            "<class 'pandas.core.frame.DataFrame'>\n",
            "RangeIndex: 18 entries, 0 to 17\n",
            "Data columns (total 11 columns):\n",
            " #   Column   Non-Null Count  Dtype  \n",
            "---  ------   --------------  -----  \n",
            " 0   oxide1   18 non-null     int64  \n",
            " 1   oxide2   18 non-null     float64\n",
            " 2   oxide3   18 non-null     float64\n",
            " 3   oxide4   18 non-null     float64\n",
            " 4   oxide5   18 non-null     float64\n",
            " 5   oxide6   18 non-null     float64\n",
            " 6   oxide7   18 non-null     float64\n",
            " 7   oxide8   18 non-null     float64\n",
            " 8   oxide9   18 non-null     float64\n",
            " 9   oxide10  18 non-null     float64\n",
            " 10  oxide11  18 non-null     int64  \n",
            "dtypes: float64(9), int64(2)\n",
            "memory usage: 1.7 KB\n"
          ]
        }
      ]
    },
    {
      "cell_type": "code",
      "source": [
        "test_df.describe()"
      ],
      "metadata": {
        "colab": {
          "base_uri": "https://localhost:8080/",
          "height": 300
        },
        "id": "vSyk-zVbpZSk",
        "outputId": "3b90d5c0-6d18-4374-90bf-488343d04c43"
      },
      "execution_count": 14,
      "outputs": [
        {
          "output_type": "execute_result",
          "data": {
            "text/plain": [
              "           oxide1     oxide2     oxide3     oxide4     oxide5     oxide6  \\\n",
              "count   18.000000  18.000000  18.000000  18.000000  18.000000  18.000000   \n",
              "mean   158.000000   1.519131  13.763333   1.873889   1.342222  72.820000   \n",
              "std     46.209243   0.002791   1.083491   1.749753   0.581312   0.892004   \n",
              "min     68.000000   1.511150  12.850000   0.000000   0.340000  71.360000   \n",
              "25%    145.250000   1.517412  13.012500   0.000000   0.877500  72.212500   \n",
              "50%    168.500000   1.519515  13.355000   2.395000   1.320000  72.685000   \n",
              "75%    183.750000   1.521055  14.220000   3.570000   1.902500  73.382500   \n",
              "max    214.000000   1.523000  17.380000   3.780000   2.170000  75.410000   \n",
              "\n",
              "          oxide7     oxide8     oxide9    oxide10    oxide11  \n",
              "count  18.000000  18.000000  18.000000  18.000000  18.000000  \n",
              "mean    0.253889   9.460556   0.292778   0.130556   4.000000  \n",
              "std     0.265133   1.380432   0.617422   0.164798   2.222876  \n",
              "min     0.000000   6.650000   0.000000   0.000000   1.000000  \n",
              "25%     0.000000   8.635000   0.000000   0.000000   2.000000  \n",
              "50%     0.175000   9.065000   0.000000   0.015000   4.000000  \n",
              "75%     0.502500  10.090000   0.112500   0.240000   6.000000  \n",
              "max     0.760000  12.500000   1.670000   0.510000   7.000000  "
            ],
            "text/html": [
              "\n",
              "  <div id=\"df-03210e54-c966-4939-9275-20c92436d229\">\n",
              "    <div class=\"colab-df-container\">\n",
              "      <div>\n",
              "<style scoped>\n",
              "    .dataframe tbody tr th:only-of-type {\n",
              "        vertical-align: middle;\n",
              "    }\n",
              "\n",
              "    .dataframe tbody tr th {\n",
              "        vertical-align: top;\n",
              "    }\n",
              "\n",
              "    .dataframe thead th {\n",
              "        text-align: right;\n",
              "    }\n",
              "</style>\n",
              "<table border=\"1\" class=\"dataframe\">\n",
              "  <thead>\n",
              "    <tr style=\"text-align: right;\">\n",
              "      <th></th>\n",
              "      <th>oxide1</th>\n",
              "      <th>oxide2</th>\n",
              "      <th>oxide3</th>\n",
              "      <th>oxide4</th>\n",
              "      <th>oxide5</th>\n",
              "      <th>oxide6</th>\n",
              "      <th>oxide7</th>\n",
              "      <th>oxide8</th>\n",
              "      <th>oxide9</th>\n",
              "      <th>oxide10</th>\n",
              "      <th>oxide11</th>\n",
              "    </tr>\n",
              "  </thead>\n",
              "  <tbody>\n",
              "    <tr>\n",
              "      <th>count</th>\n",
              "      <td>18.000000</td>\n",
              "      <td>18.000000</td>\n",
              "      <td>18.000000</td>\n",
              "      <td>18.000000</td>\n",
              "      <td>18.000000</td>\n",
              "      <td>18.000000</td>\n",
              "      <td>18.000000</td>\n",
              "      <td>18.000000</td>\n",
              "      <td>18.000000</td>\n",
              "      <td>18.000000</td>\n",
              "      <td>18.000000</td>\n",
              "    </tr>\n",
              "    <tr>\n",
              "      <th>mean</th>\n",
              "      <td>158.000000</td>\n",
              "      <td>1.519131</td>\n",
              "      <td>13.763333</td>\n",
              "      <td>1.873889</td>\n",
              "      <td>1.342222</td>\n",
              "      <td>72.820000</td>\n",
              "      <td>0.253889</td>\n",
              "      <td>9.460556</td>\n",
              "      <td>0.292778</td>\n",
              "      <td>0.130556</td>\n",
              "      <td>4.000000</td>\n",
              "    </tr>\n",
              "    <tr>\n",
              "      <th>std</th>\n",
              "      <td>46.209243</td>\n",
              "      <td>0.002791</td>\n",
              "      <td>1.083491</td>\n",
              "      <td>1.749753</td>\n",
              "      <td>0.581312</td>\n",
              "      <td>0.892004</td>\n",
              "      <td>0.265133</td>\n",
              "      <td>1.380432</td>\n",
              "      <td>0.617422</td>\n",
              "      <td>0.164798</td>\n",
              "      <td>2.222876</td>\n",
              "    </tr>\n",
              "    <tr>\n",
              "      <th>min</th>\n",
              "      <td>68.000000</td>\n",
              "      <td>1.511150</td>\n",
              "      <td>12.850000</td>\n",
              "      <td>0.000000</td>\n",
              "      <td>0.340000</td>\n",
              "      <td>71.360000</td>\n",
              "      <td>0.000000</td>\n",
              "      <td>6.650000</td>\n",
              "      <td>0.000000</td>\n",
              "      <td>0.000000</td>\n",
              "      <td>1.000000</td>\n",
              "    </tr>\n",
              "    <tr>\n",
              "      <th>25%</th>\n",
              "      <td>145.250000</td>\n",
              "      <td>1.517412</td>\n",
              "      <td>13.012500</td>\n",
              "      <td>0.000000</td>\n",
              "      <td>0.877500</td>\n",
              "      <td>72.212500</td>\n",
              "      <td>0.000000</td>\n",
              "      <td>8.635000</td>\n",
              "      <td>0.000000</td>\n",
              "      <td>0.000000</td>\n",
              "      <td>2.000000</td>\n",
              "    </tr>\n",
              "    <tr>\n",
              "      <th>50%</th>\n",
              "      <td>168.500000</td>\n",
              "      <td>1.519515</td>\n",
              "      <td>13.355000</td>\n",
              "      <td>2.395000</td>\n",
              "      <td>1.320000</td>\n",
              "      <td>72.685000</td>\n",
              "      <td>0.175000</td>\n",
              "      <td>9.065000</td>\n",
              "      <td>0.000000</td>\n",
              "      <td>0.015000</td>\n",
              "      <td>4.000000</td>\n",
              "    </tr>\n",
              "    <tr>\n",
              "      <th>75%</th>\n",
              "      <td>183.750000</td>\n",
              "      <td>1.521055</td>\n",
              "      <td>14.220000</td>\n",
              "      <td>3.570000</td>\n",
              "      <td>1.902500</td>\n",
              "      <td>73.382500</td>\n",
              "      <td>0.502500</td>\n",
              "      <td>10.090000</td>\n",
              "      <td>0.112500</td>\n",
              "      <td>0.240000</td>\n",
              "      <td>6.000000</td>\n",
              "    </tr>\n",
              "    <tr>\n",
              "      <th>max</th>\n",
              "      <td>214.000000</td>\n",
              "      <td>1.523000</td>\n",
              "      <td>17.380000</td>\n",
              "      <td>3.780000</td>\n",
              "      <td>2.170000</td>\n",
              "      <td>75.410000</td>\n",
              "      <td>0.760000</td>\n",
              "      <td>12.500000</td>\n",
              "      <td>1.670000</td>\n",
              "      <td>0.510000</td>\n",
              "      <td>7.000000</td>\n",
              "    </tr>\n",
              "  </tbody>\n",
              "</table>\n",
              "</div>\n",
              "      <button class=\"colab-df-convert\" onclick=\"convertToInteractive('df-03210e54-c966-4939-9275-20c92436d229')\"\n",
              "              title=\"Convert this dataframe to an interactive table.\"\n",
              "              style=\"display:none;\">\n",
              "        \n",
              "  <svg xmlns=\"http://www.w3.org/2000/svg\" height=\"24px\"viewBox=\"0 0 24 24\"\n",
              "       width=\"24px\">\n",
              "    <path d=\"M0 0h24v24H0V0z\" fill=\"none\"/>\n",
              "    <path d=\"M18.56 5.44l.94 2.06.94-2.06 2.06-.94-2.06-.94-.94-2.06-.94 2.06-2.06.94zm-11 1L8.5 8.5l.94-2.06 2.06-.94-2.06-.94L8.5 2.5l-.94 2.06-2.06.94zm10 10l.94 2.06.94-2.06 2.06-.94-2.06-.94-.94-2.06-.94 2.06-2.06.94z\"/><path d=\"M17.41 7.96l-1.37-1.37c-.4-.4-.92-.59-1.43-.59-.52 0-1.04.2-1.43.59L10.3 9.45l-7.72 7.72c-.78.78-.78 2.05 0 2.83L4 21.41c.39.39.9.59 1.41.59.51 0 1.02-.2 1.41-.59l7.78-7.78 2.81-2.81c.8-.78.8-2.07 0-2.86zM5.41 20L4 18.59l7.72-7.72 1.47 1.35L5.41 20z\"/>\n",
              "  </svg>\n",
              "      </button>\n",
              "      \n",
              "  <style>\n",
              "    .colab-df-container {\n",
              "      display:flex;\n",
              "      flex-wrap:wrap;\n",
              "      gap: 12px;\n",
              "    }\n",
              "\n",
              "    .colab-df-convert {\n",
              "      background-color: #E8F0FE;\n",
              "      border: none;\n",
              "      border-radius: 50%;\n",
              "      cursor: pointer;\n",
              "      display: none;\n",
              "      fill: #1967D2;\n",
              "      height: 32px;\n",
              "      padding: 0 0 0 0;\n",
              "      width: 32px;\n",
              "    }\n",
              "\n",
              "    .colab-df-convert:hover {\n",
              "      background-color: #E2EBFA;\n",
              "      box-shadow: 0px 1px 2px rgba(60, 64, 67, 0.3), 0px 1px 3px 1px rgba(60, 64, 67, 0.15);\n",
              "      fill: #174EA6;\n",
              "    }\n",
              "\n",
              "    [theme=dark] .colab-df-convert {\n",
              "      background-color: #3B4455;\n",
              "      fill: #D2E3FC;\n",
              "    }\n",
              "\n",
              "    [theme=dark] .colab-df-convert:hover {\n",
              "      background-color: #434B5C;\n",
              "      box-shadow: 0px 1px 3px 1px rgba(0, 0, 0, 0.15);\n",
              "      filter: drop-shadow(0px 1px 2px rgba(0, 0, 0, 0.3));\n",
              "      fill: #FFFFFF;\n",
              "    }\n",
              "  </style>\n",
              "\n",
              "      <script>\n",
              "        const buttonEl =\n",
              "          document.querySelector('#df-03210e54-c966-4939-9275-20c92436d229 button.colab-df-convert');\n",
              "        buttonEl.style.display =\n",
              "          google.colab.kernel.accessAllowed ? 'block' : 'none';\n",
              "\n",
              "        async function convertToInteractive(key) {\n",
              "          const element = document.querySelector('#df-03210e54-c966-4939-9275-20c92436d229');\n",
              "          const dataTable =\n",
              "            await google.colab.kernel.invokeFunction('convertToInteractive',\n",
              "                                                     [key], {});\n",
              "          if (!dataTable) return;\n",
              "\n",
              "          const docLinkHtml = 'Like what you see? Visit the ' +\n",
              "            '<a target=\"_blank\" href=https://colab.research.google.com/notebooks/data_table.ipynb>data table notebook</a>'\n",
              "            + ' to learn more about interactive tables.';\n",
              "          element.innerHTML = '';\n",
              "          dataTable['output_type'] = 'display_data';\n",
              "          await google.colab.output.renderOutput(dataTable, element);\n",
              "          const docLink = document.createElement('div');\n",
              "          docLink.innerHTML = docLinkHtml;\n",
              "          element.appendChild(docLink);\n",
              "        }\n",
              "      </script>\n",
              "    </div>\n",
              "  </div>\n",
              "  "
            ]
          },
          "metadata": {},
          "execution_count": 14
        }
      ]
    },
    {
      "cell_type": "code",
      "source": [
        "# slpiting\n",
        "X_train=train_df.drop(columns=[\"oxide11\"])\n",
        "y_train=train_df[\"oxide11\"]\n",
        "X_test=test_df.drop(columns=[\"oxide11\"])\n",
        "y_test=test_df[\"oxide11\"]"
      ],
      "metadata": {
        "id": "zpk-HH4qpZQo"
      },
      "execution_count": 18,
      "outputs": []
    },
    {
      "cell_type": "code",
      "source": [
        "## sacling\n",
        "from sklearn.preprocessing import StandardScaler\n",
        "sc= StandardScaler() # mean = 0 and deviation = 1,\n",
        "sc.fit(X_train)\n",
        "X_train= sc.transform(X_train)\n",
        "sc.fit(X_test)\n",
        "X_test= sc.transform(X_test)"
      ],
      "metadata": {
        "id": "Rdst7VmqpZND"
      },
      "execution_count": 22,
      "outputs": []
    },
    {
      "cell_type": "code",
      "source": [
        "## modling\n",
        "\n",
        "from sklearn.neighbors import KNeighborsClassifier, KNeighborsRegressor\n",
        "from scipy.sparse import csr_matrix\n"
      ],
      "metadata": {
        "id": "7wSEGBBMpZK-"
      },
      "execution_count": 25,
      "outputs": []
    },
    {
      "cell_type": "code",
      "source": [
        "model = KNeighborsClassifier(n_neighbors = 4).fit(X_train,y_train)\n",
        "model"
      ],
      "metadata": {
        "colab": {
          "base_uri": "https://localhost:8080/"
        },
        "id": "Rt_DtFyUp9KR",
        "outputId": "9130f7de-32a4-4fcc-93a6-271bc3c047eb"
      },
      "execution_count": 26,
      "outputs": [
        {
          "output_type": "execute_result",
          "data": {
            "text/plain": [
              "KNeighborsClassifier(n_neighbors=4)"
            ]
          },
          "metadata": {},
          "execution_count": 26
        }
      ]
    },
    {
      "cell_type": "code",
      "source": [
        "yhat=model.predict(X_test)\n",
        "yhat"
      ],
      "metadata": {
        "colab": {
          "base_uri": "https://localhost:8080/"
        },
        "id": "OIY4b08qp9Hl",
        "outputId": "ab4550dc-c1ca-4b85-c58e-08ff651de82b"
      },
      "execution_count": 27,
      "outputs": [
        {
          "output_type": "execute_result",
          "data": {
            "text/plain": [
              "array([1, 1, 1, 2, 2, 2, 2, 2, 1, 5, 2, 5, 5, 2, 7, 7, 7, 7])"
            ]
          },
          "metadata": {},
          "execution_count": 27
        }
      ]
    },
    {
      "cell_type": "code",
      "source": [
        "from sklearn import metrics\n",
        "print(\"Train set Accuracy: \", metrics.accuracy_score(y_train, model.predict(X_train)))\n",
        "print(\"Test set Accuracy: \", metrics.accuracy_score(y_test, yhat))"
      ],
      "metadata": {
        "colab": {
          "base_uri": "https://localhost:8080/"
        },
        "id": "Pu73wH--p9D8",
        "outputId": "c9bd5d8c-1b94-4861-a4f5-0d5bc066b97b"
      },
      "execution_count": 28,
      "outputs": [
        {
          "output_type": "stream",
          "name": "stdout",
          "text": [
            "Train set Accuracy:  0.9030612244897959\n",
            "Test set Accuracy:  0.6111111111111112\n"
          ]
        }
      ]
    },
    {
      "cell_type": "code",
      "source": [
        "k = 5\n",
        "neigh6 = KNeighborsClassifier(n_neighbors = k).fit(X_train,y_train)\n",
        "yhat6 = neigh6.predict(X_test)\n",
        "print(\"Train set Accuracy: \", metrics.accuracy_score(y_train, neigh6.predict(X_train)))"
      ],
      "metadata": {
        "colab": {
          "base_uri": "https://localhost:8080/"
        },
        "id": "0CxMRw0vp9B5",
        "outputId": "a850d919-2a25-4bf8-ea20-d915fb241d68"
      },
      "execution_count": 29,
      "outputs": [
        {
          "output_type": "stream",
          "name": "stdout",
          "text": [
            "Train set Accuracy:  0.923469387755102\n"
          ]
        }
      ]
    },
    {
      "cell_type": "code",
      "source": [
        "print(\"Test set Accuracy: \", metrics.accuracy_score(y_test, yhat6))"
      ],
      "metadata": {
        "colab": {
          "base_uri": "https://localhost:8080/"
        },
        "id": "pYCT4PrItdTk",
        "outputId": "2ebaed04-027d-4ac8-b45f-d2a30e6d49fc"
      },
      "execution_count": 30,
      "outputs": [
        {
          "output_type": "stream",
          "name": "stdout",
          "text": [
            "Test set Accuracy:  0.6666666666666666\n"
          ]
        }
      ]
    },
    {
      "cell_type": "code",
      "source": [
        "K = 10\n",
        "mean_acc = np.zeros((K-1))\n",
        "std_acc = np.zeros((K-1))\n",
        "ConfustionMx = [];\n",
        "for n in range(1,K):\n",
        "  \n",
        "   #Train Model and Predict \n",
        "   neigh = KNeighborsClassifier(n_neighbors = n).fit(X_train,y_train)\n",
        "   yhat=neigh.predict(X_test)\n",
        "   mean_acc[n-1] = metrics.accuracy_score(y_test, yhat)\n",
        " \n",
        "  \n",
        "   std_acc[n-1]=np.std(yhat==y_test)/np.sqrt(yhat.shape[0])\n",
        " \n",
        "mean_acc"
      ],
      "metadata": {
        "colab": {
          "base_uri": "https://localhost:8080/"
        },
        "id": "bEsSr9XrtdBm",
        "outputId": "e6b36b0d-8072-4acb-d723-15d9b7c229ce"
      },
      "execution_count": 31,
      "outputs": [
        {
          "output_type": "execute_result",
          "data": {
            "text/plain": [
              "array([0.72222222, 0.61111111, 0.66666667, 0.61111111, 0.66666667,\n",
              "       0.66666667, 0.66666667, 0.66666667, 0.66666667])"
            ]
          },
          "metadata": {},
          "execution_count": 31
        }
      ]
    },
    {
      "cell_type": "code",
      "source": [
        "import matplotlib.pyplot as plt\n",
        "plt.plot(range(1,K),mean_acc,'g')\n",
        "plt.fill_between(range(1,K),mean_acc - 1 * std_acc,mean_acc + 1 * std_acc, alpha=0.10)\n",
        "plt.legend(('Accuracy ', '+/- 3xstd'))\n",
        "plt.ylabel('Accuracy ')\n",
        "plt.xlabel('Number of Nabors (K)')\n",
        "plt.tight_layout()\n",
        "plt.show()"
      ],
      "metadata": {
        "colab": {
          "base_uri": "https://localhost:8080/",
          "height": 297
        },
        "id": "oYH3XXiUtc_v",
        "outputId": "6c26bd9a-8b5f-49e4-c060-dc3c2077c862"
      },
      "execution_count": 32,
      "outputs": [
        {
          "output_type": "display_data",
          "data": {
            "text/plain": [
              "<Figure size 432x288 with 1 Axes>"
            ],
            "image/png": "[encoded data removed]"
          },
          "metadata": {
            "needs_background": "light"
          }
        }
      ]
    },
    {
      "cell_type": "code",
      "source": [
        "print( \"The best accuracy was with\", mean_acc.max(), \"with k=\", mean_acc.argmax()+1)"
      ],
      "metadata": {
        "colab": {
          "base_uri": "https://localhost:8080/"
        },
        "id": "DFiQqZuStc7y",
        "outputId": "ffd14db1-bd50-4673-9227-cb57663dc9ca"
      },
      "execution_count": 34,
      "outputs": [
        {
          "output_type": "stream",
          "name": "stdout",
          "text": [
            "The best accuracy was with 0.7222222222222222 with k= 1\n"
          ]
        }
      ]
    },
    {
      "cell_type": "code",
      "source": [
        "## The best score calculated with this data is 72% for Euclidean distance"
      ],
      "metadata": {
        "id": "MgbfLMPotwCT"
      },
      "execution_count": null,
      "outputs": []
    },
    {
      "cell_type": "code",
      "source": [
        ""
      ],
      "metadata": {
        "id": "dtC-DkSgtv-N"
      },
      "execution_count": null,
      "outputs": []
    },
    {
      "cell_type": "code",
      "source": [
        ""
      ],
      "metadata": {
        "id": "onzeMUaFtv8C"
      },
      "execution_count": null,
      "outputs": []
    },
    {
      "cell_type": "code",
      "source": [
        ""
      ],
      "metadata": {
        "id": "869pbaaXuHPq"
      },
      "execution_count": null,
      "outputs": []
    },
    {
      "cell_type": "code",
      "source": [
        ""
      ],
      "metadata": {
        "id": "6W0KcwZKuHNh"
      },
      "execution_count": null,
      "outputs": []
    }
  ]
}